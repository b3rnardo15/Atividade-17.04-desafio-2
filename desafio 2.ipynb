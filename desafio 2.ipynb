{
 "cells": [
  {
   "cell_type": "code",
   "execution_count": 14,
   "metadata": {},
   "outputs": [
    {
     "name": "stdout",
     "output_type": "stream",
     "text": [
      "O ano do carro é: 1989\n",
      "O preço do carro foi: 18000.0\n",
      "A taxa é do detran é R$: 180.0\n"
     ]
    }
   ],
   "source": [
    "#desafio 1\n",
    "\n",
    "preco= float(input(\"Valor do carro:\"))\n",
    "ano = int (input (\"Ano do carro\"))\n",
    "\n",
    "print(\"O ano do carro é:\",ano)\n",
    "print(\"O preço do carro foi:\",preco)\n",
    "\n",
    "fabricação = 1990 \n",
    "\n",
    "taxaUmPorcento = 0.01\n",
    "taxaFivePorce = 0.015 \n",
    "\n",
    "if ano < fabricação:\n",
    "    imposto = taxaUmPorcento * preco\n",
    "    print(\"A taxa é do detran é R$:\", imposto)\n",
    "else:\n",
    "    imposto = taxaFivePorce * preco\n",
    "    print(\"A taxa é do detran é R$: \", imposto) \n",
    "\n",
    "\n",
    "\n"
   ]
  },
  {
   "cell_type": "code",
   "execution_count": 79,
   "metadata": {},
   "outputs": [
    {
     "name": "stdout",
     "output_type": "stream",
     "text": [
      "O aumento do gerente é igual a:  200.0\n"
     ]
    }
   ],
   "source": [
    "#desafio 2\n",
    "salario = float(input(\"Digite seu salario: \"))\n",
    "cargo = float(input(\"Digite seu cargo: \"))\n",
    "\n",
    "\n",
    "codigoGeren = 101\n",
    "codigoEngen = 102\n",
    "codigoTec = 103\n",
    "\n",
    "\n",
    "\n",
    "gerente = 10/100 * salario\n",
    "engenheiro = 20/200 * salario\n",
    "tecnico = 30/100 * salario\n",
    "\n",
    "\n",
    "if  cargo == codigoEngen or codigoGeren or codigoTec:\n",
    "    Aumento = ( 10/100 * salario)\n",
    "    print(\"O aumento do gerente é igual a: \", Aumento)\n",
    "\n",
    "elif cargo == codigoEngen or codigoEngen or codigoTec:\n",
    "    Aumento = (20/100 * salario)\n",
    "    print(\"Seu aumento será igual a: \",Aumento)\n",
    "\n",
    "elif cargo == codigoTec or codigoEngen or codigoEngen:\n",
    "    Aumento = (30/100 * salario)\n",
    "    print(\"Seu aumento será igual a: \",Aumento)\n",
    "\n",
    "else: \n",
    "    Aumento = (40/100 * salario)\n",
    "    print(\"Seu aumento será igual a\", salario * Aumento)\n",
    "\n"
   ]
  }
 ],
 "metadata": {
  "kernelspec": {
   "display_name": "Python 3",
   "language": "python",
   "name": "python3"
  },
  "language_info": {
   "codemirror_mode": {
    "name": "ipython",
    "version": 3
   },
   "file_extension": ".py",
   "mimetype": "text/x-python",
   "name": "python",
   "nbconvert_exporter": "python",
   "pygments_lexer": "ipython3",
   "version": "3.11.9"
  }
 },
 "nbformat": 4,
 "nbformat_minor": 2
}
